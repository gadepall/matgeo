{
 "cells": [
  {
   "cell_type": "code",
   "execution_count": 15,
   "id": "4445e9d0-ec11-45ca-a9f3-4e83429d5826",
   "metadata": {},
   "outputs": [],
   "source": [
    "class Animal():   #base class\n",
    "\n",
    "    def __init__(self):\n",
    "        print(\"Animal created\")\n",
    "    def who_am_i(self):\n",
    "        print(\"I am an animal\")\n",
    "    def eat(self):\n",
    "        print(\"I am eating\")"
   ]
  },
  {
   "cell_type": "code",
   "execution_count": 16,
   "id": "635c2a8b-ebf2-4243-8b52-3ea8c2b54bca",
   "metadata": {},
   "outputs": [],
   "source": [
    "class Dog(Animal): #class inheritance #derived class\n",
    "    def __init__(self):\n",
    "        Animal.__init__(self)\n",
    "        print(\"Dog Created\")\n",
    "    def who_am_i(self):\n",
    "        print(\"I am a dog\")\n",
    "    def bark(self):\n",
    "        print(\"Woof\")"
   ]
  },
  {
   "cell_type": "code",
   "execution_count": 4,
   "id": "76b369e0-e7c6-426e-b61d-f4831cc8399f",
   "metadata": {},
   "outputs": [
    {
     "name": "stdout",
     "output_type": "stream",
     "text": [
      "Animal created\n",
      "Dog Created\n"
     ]
    }
   ],
   "source": [
    "my_dog=Dog()"
   ]
  },
  {
   "cell_type": "code",
   "execution_count": 6,
   "id": "4807e0b5-f67a-41a0-a56c-dd25c6b04bec",
   "metadata": {},
   "outputs": [
    {
     "name": "stdout",
     "output_type": "stream",
     "text": [
      "I am a dog\n"
     ]
    }
   ],
   "source": [
    "my_dog.who_am_i()"
   ]
  },
  {
   "cell_type": "code",
   "execution_count": 7,
   "id": "3e20011d-5061-4ae3-85ae-afd9127598c1",
   "metadata": {},
   "outputs": [
    {
     "name": "stdout",
     "output_type": "stream",
     "text": [
      "I am eating\n"
     ]
    }
   ],
   "source": [
    "my_dog.eat()"
   ]
  },
  {
   "cell_type": "code",
   "execution_count": 8,
   "id": "da5f1d9d-b370-4e16-9f58-8e03dfc717c1",
   "metadata": {},
   "outputs": [
    {
     "name": "stdout",
     "output_type": "stream",
     "text": [
      "Woof\n"
     ]
    }
   ],
   "source": [
    "my_dog.bark()"
   ]
  },
  {
   "cell_type": "markdown",
   "id": "090c4c9c-847e-491c-a2e2-ca0a9ce4e616",
   "metadata": {},
   "source": [
    "Polymorphism"
   ]
  },
  {
   "cell_type": "code",
   "execution_count": 9,
   "id": "9c130259-b0b7-41a7-bc3c-a3f29ed81573",
   "metadata": {},
   "outputs": [],
   "source": [
    "class Dog():\n",
    "    def __init__(self,name):\n",
    "        self.name=name\n",
    "    def speak(self):\n",
    "        return self.name+\" says woof\""
   ]
  },
  {
   "cell_type": "code",
   "execution_count": 10,
   "id": "8eff13a4-391a-4f4b-8799-bd5f4410afab",
   "metadata": {},
   "outputs": [],
   "source": [
    "class Cat():\n",
    "    def __init__(self,name):\n",
    "        self.name=name\n",
    "    def speak(self):\n",
    "        return self.name+\" says meow\""
   ]
  },
  {
   "cell_type": "code",
   "execution_count": 11,
   "id": "c60091c8-d4ef-45ba-a3eb-6597fe21bfe8",
   "metadata": {},
   "outputs": [],
   "source": [
    "niko=Dog(\"niko\")\n",
    "felix=Cat(\"Felix\")"
   ]
  },
  {
   "cell_type": "code",
   "execution_count": 12,
   "id": "5f93bbd2-4570-45a6-ab61-54e3fe782c72",
   "metadata": {},
   "outputs": [
    {
     "name": "stdout",
     "output_type": "stream",
     "text": [
      "niko says woof\n"
     ]
    }
   ],
   "source": [
    "print(niko.speak())"
   ]
  },
  {
   "cell_type": "code",
   "execution_count": 13,
   "id": "d4d39098-eb63-48df-80e1-749dd9501c2f",
   "metadata": {},
   "outputs": [
    {
     "name": "stdout",
     "output_type": "stream",
     "text": [
      "Felix says meow\n"
     ]
    }
   ],
   "source": [
    "print(felix.speak())"
   ]
  },
  {
   "cell_type": "code",
   "execution_count": 28,
   "id": "d286fc03-c465-40b1-875e-83779d23431d",
   "metadata": {},
   "outputs": [],
   "source": [
    "class Animal():\n",
    "    def __init__(self,name):\n",
    "        self.name=name\n",
    "    def speak(self):\n",
    "        raise NotImplementedError(\"Subclass must implement this abstract method\")"
   ]
  },
  {
   "cell_type": "code",
   "execution_count": 29,
   "id": "d4fb784c-b280-4a7a-adcf-a4822ce08753",
   "metadata": {},
   "outputs": [],
   "source": [
    "class Dog(Animal):\n",
    "    def speak(self):\n",
    "        return self.name+\" say woof\""
   ]
  },
  {
   "cell_type": "code",
   "execution_count": 30,
   "id": "704d28ff-c429-4048-ae1f-c3c640cb48a3",
   "metadata": {},
   "outputs": [],
   "source": [
    "class Cat(Animal):\n",
    "    def speak(self):\n",
    "        return self.name+\" say meow\""
   ]
  },
  {
   "cell_type": "code",
   "execution_count": 27,
   "id": "912dcac3-31b2-420b-b26a-164cc1fa45e6",
   "metadata": {},
   "outputs": [],
   "source": [
    "fido=Dog(\"Fido\")"
   ]
  },
  {
   "cell_type": "code",
   "execution_count": 31,
   "id": "b1ba5a21-24c6-44c3-81b5-e9943681efd8",
   "metadata": {},
   "outputs": [
    {
     "data": {
      "text/plain": [
       "'Fido'"
      ]
     },
     "execution_count": 31,
     "metadata": {},
     "output_type": "execute_result"
    }
   ],
   "source": [
    "fido.name"
   ]
  },
  {
   "cell_type": "code",
   "execution_count": 32,
   "id": "6e32d628-7d9d-48c6-b84c-f1fbebb62ffa",
   "metadata": {},
   "outputs": [
    {
     "data": {
      "text/plain": [
       "'Fido say woof'"
      ]
     },
     "execution_count": 32,
     "metadata": {},
     "output_type": "execute_result"
    }
   ],
   "source": [
    "fido.speak()"
   ]
  },
  {
   "cell_type": "code",
   "execution_count": 34,
   "id": "06e2e7b8-652b-4c49-b35f-996f82deb879",
   "metadata": {},
   "outputs": [],
   "source": [
    "anml=Animal(\"RRR\")"
   ]
  },
  {
   "cell_type": "code",
   "execution_count": 35,
   "id": "e030c42c-822b-4a92-b595-9ff87bde4cf8",
   "metadata": {
    "scrolled": true
   },
   "outputs": [
    {
     "ename": "NotImplementedError",
     "evalue": "Subclass must implement this abstract method",
     "output_type": "error",
     "traceback": [
      "\u001b[1;31m---------------------------------------------------------------------------\u001b[0m",
      "\u001b[1;31mNotImplementedError\u001b[0m                       Traceback (most recent call last)",
      "Cell \u001b[1;32mIn[35], line 1\u001b[0m\n\u001b[1;32m----> 1\u001b[0m anml\u001b[38;5;241m.\u001b[39mspeak()\n",
      "Cell \u001b[1;32mIn[28], line 5\u001b[0m, in \u001b[0;36mAnimal.speak\u001b[1;34m(self)\u001b[0m\n\u001b[0;32m      4\u001b[0m \u001b[38;5;28;01mdef\u001b[39;00m\u001b[38;5;250m \u001b[39m\u001b[38;5;21mspeak\u001b[39m(\u001b[38;5;28mself\u001b[39m):\n\u001b[1;32m----> 5\u001b[0m     \u001b[38;5;28;01mraise\u001b[39;00m \u001b[38;5;167;01mNotImplementedError\u001b[39;00m(\u001b[38;5;124m\"\u001b[39m\u001b[38;5;124mSubclass must implement this abstract method\u001b[39m\u001b[38;5;124m\"\u001b[39m)\n",
      "\u001b[1;31mNotImplementedError\u001b[0m: Subclass must implement this abstract method"
     ]
    }
   ],
   "source": [
    "anml.speak()"
   ]
  },
  {
   "cell_type": "code",
   "execution_count": null,
   "id": "7016e780-b666-42d7-973c-9995ba093973",
   "metadata": {},
   "outputs": [],
   "source": []
  }
 ],
 "metadata": {
  "kernelspec": {
   "display_name": "Python [conda env:base] *",
   "language": "python",
   "name": "conda-base-py"
  },
  "language_info": {
   "codemirror_mode": {
    "name": "ipython",
    "version": 3
   },
   "file_extension": ".py",
   "mimetype": "text/x-python",
   "name": "python",
   "nbconvert_exporter": "python",
   "pygments_lexer": "ipython3",
   "version": "3.13.5"
  }
 },
 "nbformat": 4,
 "nbformat_minor": 5
}
